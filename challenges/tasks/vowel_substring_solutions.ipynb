{
 "cells": [
  {
   "cell_type": "markdown",
   "metadata": {},
   "source": [
    "## You are given a string word and a non-negative integer k.\n",
    "\n",
    "Return the total number of \n",
    "substrings\n",
    " of word that contain every vowel ('a', 'e', 'i', 'o', and 'u') at least once and exactly k consonants.\n",
    "\n",
    " Example 1:\n",
    "\n",
    "Input: word = \"aeioqq\", k = 1\n",
    "\n",
    "Output: 0\n",
    "\n",
    "Explanation:\n",
    "\n",
    "There is no substring with every vowel.\n",
    "\n",
    "Example 2:\n",
    "\n",
    "Input: word = \"aeiou\", k = 0\n",
    "\n",
    "Output: 1\n",
    "\n",
    "Explanation:\n",
    "\n",
    "The only substring with every vowel and zero consonants is word[0..4], which is \"aeiou\".\n",
    "\n",
    "Example 3:\n",
    "\n",
    "Input: word = \"ieaouqqieaouqq\", k = 1\n",
    "\n",
    "Output: 3\n",
    "\n",
    "Explanation:\n",
    "\n",
    "The substrings with every vowel and one consonant are:\n",
    "\n",
    "word[0..5], which is \"ieaouq\".\n",
    "word[6..11], which is \"qieaou\".\n",
    "word[7..12], which is \"ieaouq\".\n",
    " \n",
    "\n",
    "Constraints:\n",
    "\n",
    "5 <= word.length <= 250\n",
    "word consists only of lowercase English letters.\n",
    "0 <= k <= word.length - 5"
   ]
  },
  {
   "cell_type": "markdown",
   "metadata": {},
   "source": [
    "### Aproach\n",
    "\n",
    "1 sliding window technique\n",
    "\n",
    "2. tracking the vowels and  Consonants\n",
    "\n",
    "3. Checking Valid Substrings\n",
    "\n",
    "4. Adjust window Size dynamically\n"
   ]
  },
  {
   "cell_type": "code",
   "execution_count": 1,
   "metadata": {},
   "outputs": [
    {
     "name": "stdout",
     "output_type": "stream",
     "text": [
      "0\n",
      "1\n",
      "16\n"
     ]
    }
   ],
   "source": [
    "def countSubstrings(word, k):\n",
    "    vowels = set('aeiou')\n",
    "    vowel_count = {vowel: 0 for vowel in vowels}\n",
    "    total_count = 0\n",
    "    consonant_count = 0\n",
    "    left = 0\n",
    "    \n",
    "    # Checking if all vowels are present at least once in the current window\n",
    "    def all_vowels_present():\n",
    "        return all(vowel_count[v] > 0 for v in vowels)\n",
    "    \n",
    "    for right in range(len(word)):\n",
    "        # Add the current character to the window\n",
    "        if word[right] in vowels:\n",
    "            vowel_count[word[right]] += 1\n",
    "        else:\n",
    "            consonant_count += 1\n",
    "        \n",
    "        # Shrink the window if there are more consonants than k\n",
    "        while consonant_count > k:\n",
    "            if word[left] in vowels:\n",
    "                vowel_count[word[left]] -= 1\n",
    "            else:\n",
    "                consonant_count -= 1\n",
    "            left += 1\n",
    "        \n",
    "        # Now checking if the window is valid\n",
    "        if all_vowels_present() and consonant_count == k:\n",
    "            # Finding the number of valid substrings ending at 'right' with 'left' fixed\n",
    "            total_count += (left + 1)\n",
    "    \n",
    "    return total_count\n",
    "\n",
    "# Test cases\n",
    "print(countSubstrings(\"aeioqq\", 1))  # Output: 0\n",
    "print(countSubstrings(\"aeiou\", 0))   # Output: 1\n",
    "print(countSubstrings(\"ieaouqqieaouqq\", 1))  # Output: 3\n"
   ]
  },
  {
   "cell_type": "code",
   "execution_count": null,
   "metadata": {},
   "outputs": [],
   "source": []
  }
 ],
 "metadata": {
  "kernelspec": {
   "display_name": "DP",
   "language": "python",
   "name": "python3"
  },
  "language_info": {
   "codemirror_mode": {
    "name": "ipython",
    "version": 3
   },
   "file_extension": ".py",
   "mimetype": "text/x-python",
   "name": "python",
   "nbconvert_exporter": "python",
   "pygments_lexer": "ipython3",
   "version": "3.9.13"
  }
 },
 "nbformat": 4,
 "nbformat_minor": 2
}
